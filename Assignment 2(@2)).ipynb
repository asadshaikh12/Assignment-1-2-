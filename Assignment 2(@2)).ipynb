{
 "cells": [
  {
   "cell_type": "code",
   "execution_count": 2,
   "id": "6739ff60",
   "metadata": {},
   "outputs": [
    {
     "name": "stdout",
     "output_type": "stream",
     "text": [
      "edyoda\n",
      "adoyde\n"
     ]
    }
   ],
   "source": [
    "A =str(input())\n",
    "B = list(A)\n",
    "B.reverse()\n",
    "\n",
    "\n",
    "print(''.join(B))\n"
   ]
  },
  {
   "cell_type": "code",
   "execution_count": 3,
   "id": "a19340ed",
   "metadata": {},
   "outputs": [
    {
     "name": "stdout",
     "output_type": "stream",
     "text": [
      "edoyda\n",
      "adyode\n"
     ]
    }
   ],
   "source": [
    "S= str(input())\n",
    "D= S[::-1]\n",
    "print(D)"
   ]
  },
  {
   "cell_type": "code",
   "execution_count": null,
   "id": "553ad056",
   "metadata": {},
   "outputs": [],
   "source": []
  }
 ],
 "metadata": {
  "kernelspec": {
   "display_name": "Python 3 (ipykernel)",
   "language": "python",
   "name": "python3"
  },
  "language_info": {
   "codemirror_mode": {
    "name": "ipython",
    "version": 3
   },
   "file_extension": ".py",
   "mimetype": "text/x-python",
   "name": "python",
   "nbconvert_exporter": "python",
   "pygments_lexer": "ipython3",
   "version": "3.10.1"
  }
 },
 "nbformat": 4,
 "nbformat_minor": 5
}
